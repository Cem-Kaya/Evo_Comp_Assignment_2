{
 "cells": [
  {
   "cell_type": "markdown",
   "metadata": {},
   "source": [
    "MLS experiment with 10000 FM passes."
   ]
  },
  {
   "cell_type": "code",
   "execution_count": 1,
   "metadata": {},
   "outputs": [
    {
     "name": "stdout",
     "output_type": "stream",
     "text": [
      "MLS - 0. Best Cut: 26. Elapsed: 480.608.\n"
     ]
    },
    {
     "data": {
      "text/plain": [
       "(26,\n",
       " 26,\n",
       " [{'max_iterations': 10000,\n",
       "   'n_iterations': 10000,\n",
       "   'best_cut_size': 26,\n",
       "   'time_elapsed': 469.94679141044617,\n",
       "   'avg_cut_size': 68.8994,\n",
       "   'avg_best_cut_size': 44.625,\n",
       "   'n_stays_in_local_optimum': 'N/A',\n",
       "   'cpu_time_sec': -1,\n",
       "   'initial_cut_size_avg': 642.4192,\n",
       "   'initial_cut_size_best': 560,\n",
       "   'avg_time_per_fm': 0.04699467914104462},\n",
       "  {'Algorithm': 'MLS',\n",
       "   'runs': 1,\n",
       "   'mutation_size': 'N/A',\n",
       "   'max_iterations': 10000,\n",
       "   'best_cut': 26,\n",
       "   'avg_best_cut_size': 26,\n",
       "   'avg_time_elapsed': 469.94679141044617}])"
      ]
     },
     "execution_count": 1,
     "metadata": {},
     "output_type": "execute_result"
    }
   ],
   "source": [
    "import mls\n",
    "mls.run_mls(max_iterations=10000, runs=1)"
   ]
  },
  {
   "cell_type": "markdown",
   "metadata": {},
   "source": [
    "MLS fixed CPU time experiment, 25 runs."
   ]
  },
  {
   "cell_type": "code",
   "execution_count": null,
   "metadata": {},
   "outputs": [],
   "source": [
    "import mls\n",
    "cpu_time_sec = 450\n",
    "mls.run_mls(max_iterations=0, runs=25,cpu_time_sec=cpu_time_sec)"
   ]
  }
 ],
 "metadata": {
  "kernelspec": {
   "display_name": "Python 3",
   "language": "python",
   "name": "python3"
  },
  "language_info": {
   "codemirror_mode": {
    "name": "ipython",
    "version": 3
   },
   "file_extension": ".py",
   "mimetype": "text/x-python",
   "name": "python",
   "nbconvert_exporter": "python",
   "pygments_lexer": "ipython3",
   "version": "3.12.5"
  }
 },
 "nbformat": 4,
 "nbformat_minor": 2
}
