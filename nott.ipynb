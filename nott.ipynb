{
 "cells": [
  {
   "cell_type": "markdown",
   "metadata": {},
   "source": [
    "3. Implement and test GLS (using the FM local search) with population size 50. The\n",
    " specific genetic algorithm is an incremental (or steady state) GA where there is no\n",
    " explicit notion of generations: each iteration two parents are randomly selected, use\n",
    " uniform crossover to generate one child, do FM local search on the child, let this\n",
    " optimized child compete with the worst solution in the population, if it is better or\n",
    " equal it replaces the worst solution. Are the GLS results statistically better/worse\n",
    " than MLS or ILS ?"
   ]
  },
  {
   "cell_type": "code",
   "execution_count": 1,
   "metadata": {},
   "outputs": [],
   "source": [
    "import time\n",
    "import statistics\n",
    "import random\n",
    "import pickle\n",
    "import time\n",
    "\n",
    "from scipy.stats import mannwhitneyu\n",
    "import matplotlib.pyplot as plt\n",
    "\n",
    "from gls import GLS  "
   ]
  },
  {
   "cell_type": "code",
   "execution_count": 2,
   "metadata": {},
   "outputs": [],
   "source": [
    "NUM_RUNS = 10\n",
    "POP_SIZE = 50\n",
    "MAX_ITERATIONS = 10_000\n",
    "random_seeds = list(range(NUM_RUNS))"
   ]
  },
  {
   "cell_type": "code",
   "execution_count": 3,
   "metadata": {},
   "outputs": [
    {
     "name": "stdout",
     "output_type": "stream",
     "text": [
      "Starting GLS run 1/10 with seed=0...\n",
      "Run 1 done. Best cut size = 9, Time = 794.54s\n",
      "Starting GLS run 2/10 with seed=1...\n",
      "Run 2 done. Best cut size = 6, Time = 770.71s\n",
      "Starting GLS run 3/10 with seed=2...\n",
      "Run 3 done. Best cut size = 7, Time = 755.39s\n",
      "Starting GLS run 4/10 with seed=3...\n",
      "Run 4 done. Best cut size = 10, Time = 754.90s\n",
      "Starting GLS run 5/10 with seed=4...\n",
      "Run 5 done. Best cut size = 5, Time = 755.46s\n",
      "Starting GLS run 6/10 with seed=5...\n",
      "Run 6 done. Best cut size = 8, Time = 755.32s\n",
      "Starting GLS run 7/10 with seed=6...\n",
      "Run 7 done. Best cut size = 8, Time = 756.55s\n",
      "Starting GLS run 8/10 with seed=7...\n",
      "Run 8 done. Best cut size = 12, Time = 758.76s\n",
      "Starting GLS run 9/10 with seed=8...\n",
      "Run 9 done. Best cut size = 7, Time = 755.86s\n",
      "Starting GLS run 10/10 with seed=9...\n",
      "Run 10 done. Best cut size = 8, Time = 757.09s\n"
     ]
    }
   ],
   "source": [
    "gls_cut_sizes = []\n",
    "gls_times = []\n",
    "\n",
    "for i in range(NUM_RUNS):\n",
    "    seed = random_seeds[i]\n",
    "    print(f\"Starting GLS run {i+1}/{NUM_RUNS} with seed={seed}...\")\n",
    "\n",
    "    start_time = time.time()\n",
    "\n",
    "    # Instantiate GLS (adapt to your constructor signature)\n",
    "    gls = GLS(\n",
    "        graph_filename=\"Graph500.txt\",\n",
    "        pop_size=POP_SIZE,\n",
    "        max_iterations=MAX_ITERATIONS,\n",
    "        random_seed=seed\n",
    "    )\n",
    "\n",
    "    best_cut_size = gls.run_gls()  \n",
    "\n",
    "    end_time = time.time()\n",
    "    elapsed = end_time - start_time\n",
    "\n",
    "    # Record results\n",
    "    gls_cut_sizes.append(best_cut_size)\n",
    "    gls_times.append(elapsed)\n",
    "\n",
    "    print(f\"Run {i+1} done. Best cut size = {best_cut_size}, Time = {elapsed:.2f}s\")\n"
   ]
  },
  {
   "cell_type": "code",
   "execution_count": 8,
   "metadata": {},
   "outputs": [
    {
     "name": "stdout",
     "output_type": "stream",
     "text": [
      "\n",
      "===== GLS (10 runs) Summary =====\n",
      "Cut sizes: [9, 6, 7, 10, 5, 8, 8, 12, 7, 8]\n",
      "Best cut size across 10 runs: 5\n",
      "Median cut size across 10 runs: 8.0 , std dev: 1.90\n",
      "Mean cut size across 10 runs: 8.00\n",
      "Avg run time: 761.46s  (Std Dev: 11.90s)\n"
     ]
    }
   ],
   "source": [
    "print(\"\\n===== GLS (10 runs) Summary =====\")\n",
    "print(\"Cut sizes:\", gls_cut_sizes)\n",
    "print(f\"Best cut size across 10 runs: {min(gls_cut_sizes)}\")\n",
    "print(f\"Median cut size across 10 runs: {statistics.median(gls_cut_sizes)} , std dev: {statistics.pstdev(gls_cut_sizes):.2f}\")\n",
    "print(f\"Mean cut size across 10 runs: {statistics.mean(gls_cut_sizes):.2f}\")\n",
    "print(f\"Avg run time: {statistics.mean(gls_times):.2f}s  (Std Dev: {statistics.pstdev(gls_times):.2f}s)\")"
   ]
  },
  {
   "cell_type": "code",
   "execution_count": 5,
   "metadata": {},
   "outputs": [
    {
     "data": {
      "image/png": "[encoded data removed]",
      "text/plain": [
       "<Figure size 640x480 with 1 Axes>"
      ]
     },
     "metadata": {},
     "output_type": "display_data"
    }
   ],
   "source": [
    "plt.boxplot(gls_cut_sizes)\n",
    "plt.title(\"GLS Cut Sizes (10 runs, each with 10,000 FM passes)\")\n",
    "plt.ylabel(\"Cut Size\")\n",
    "plt.show()"
   ]
  },
  {
   "cell_type": "code",
   "execution_count": 6,
   "metadata": {},
   "outputs": [],
   "source": [
    "gls_results_dict = {\n",
    "    \"cut_sizes\": gls_cut_sizes,\n",
    "    \"run_times\": gls_times\n",
    "}"
   ]
  },
  {
   "cell_type": "code",
   "execution_count": 10,
   "metadata": {},
   "outputs": [],
   "source": [
    "timestamp = time.strftime(\"%Y%m%d-%H%M%S\")\n",
    "\n",
    "solution_filename = f\"solution_with_pop_size{POP_SIZE}_with_iter_{MAX_ITERATIONS}_seed{random_seeds}_{timestamp}.pkl\"\n"
   ]
  },
  {
   "cell_type": "code",
   "execution_count": 11,
   "metadata": {},
   "outputs": [],
   "source": [
    "gls_results_dict = {\n",
    "    \"cut_sizes\": gls_cut_sizes,\n",
    "    \"run_times\": gls_times,\n",
    "    \"timestamp\": time.strftime(\"%Y-%m-%d %H:%M:%S\")  # readable timestamp inside the file\n",
    "}\n",
    "\n",
    "filename_timestamp = time.strftime(\"%Y%m%d_%H%M%S\")  # e.g., 20250326_142301\n",
    "pickle_filename = f\"gls_results_{filename_timestamp}.pkl\"\n",
    "\n",
    "with open(pickle_filename, \"wb\") as f:\n",
    "    pickle.dump(gls_results_dict, f)"
   ]
  },
  {
   "cell_type": "code",
   "execution_count": null,
   "metadata": {},
   "outputs": [],
   "source": []
  }
 ],
 "metadata": {
  "kernelspec": {
   "display_name": "evo",
   "language": "python",
   "name": "python3"
  },
  "language_info": {
   "codemirror_mode": {
    "name": "ipython",
    "version": 3
   },
   "file_extension": ".py",
   "mimetype": "text/x-python",
   "name": "python",
   "nbconvert_exporter": "python",
   "pygments_lexer": "ipython3",
   "version": "3.11.11"
  }
 },
 "nbformat": 4,
 "nbformat_minor": 2
}
