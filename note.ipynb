{
 "cells": [
  {
   "cell_type": "code",
   "execution_count": null,
   "metadata": {},
   "outputs": [],
   "source": [
    "#TODO MLS ILS GLS time give \n",
    "#GLS hamming distance \n",
    "# statistics \n",
    "# 3. Implement and test GLS (using the FM local search) with population size 50. The\n",
    "# specific genetic algorithm is an incremental (or steady state) GA where there is no\n",
    "# explicit notion of generations: each iteration two parents are randomly selected, use\n",
    "# uniform crossover to generate one child, do FM local search on the child, let this\n",
    "# optimized child compete with the worst solution in the population, if it is better or\n",
    "# equal it replaces the worst solution. Are the GLS results statistically better/worse\n",
    "# than MLS or ILS ?"
   ]
  },
  {
   "cell_type": "code",
   "execution_count": null,
   "metadata": {},
   "outputs": [],
   "source": []
  },
  {
   "cell_type": "code",
   "execution_count": null,
   "metadata": {},
   "outputs": [],
   "source": []
  },
  {
   "cell_type": "code",
   "execution_count": null,
   "metadata": {},
   "outputs": [],
   "source": []
  }
 ],
 "metadata": {
  "language_info": {
   "name": "python"
  }
 },
 "nbformat": 4,
 "nbformat_minor": 2
}
