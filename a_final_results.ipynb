{
 "cells": [
  {
   "cell_type": "markdown",
   "metadata": {},
   "source": [
    "This notebook contains the code for generating final charts and tables for experiments\n",
    "\n",
    "1 - Single run with 10.000 FM passes for all algorithms\n",
    "\n",
    "2 - 25 runs with fixed CPU time of 450 seconds each for all algorithms."
   ]
  },
  {
   "cell_type": "code",
   "execution_count": 9,
   "metadata": {},
   "outputs": [],
   "source": [
    "import utils\n",
    "import numpy as np\n",
    "import pandas as pd\n",
    "from IPython.display import HTML\n",
    "import matplotlib.pyplot as plt\n",
    "import ils_adaptive as ila"
   ]
  },
  {
   "cell_type": "markdown",
   "metadata": {},
   "source": [
    "Experiment 1 - Single run with 10.000 FM passes for all algorithms"
   ]
  },
  {
   "cell_type": "code",
   "execution_count": null,
   "metadata": {},
   "outputs": [],
   "source": [
    "mls_single_file = \"pckl/final_results/2025-03-31_17-58-36_MLS-10000-best_cut_26-time_469.947.pkl\"\n",
    "ils_ada_single_file = \"pckl/final_results/2025-03-31_16-56-44_ILS-ADA-10000-p0.001_a0.6_b0.2_sFalse-best_cut_29-time_419.293.pkl\"\n",
    "ils_ada_stg_single_file = \"pckl/final_results/2025-03-31_16-56-05_ILS-ADA-STAGING-10000-p0.001_a0.6_b0.2_sTrue-st0.6-st30-best_cut_10-time_425.04.pkl\"\n",
    "ils_single_file = \"pckl/final_results/2025-03-31_16-37-48_ILS-10000-mutation_70-best_cut_9-time_449.797.pkl\"\n",
    "gls_single_file = \"pckl/final_results/20250331-173550_GLS-10000-pop_size_50.pkl\"\n",
    "\n",
    "mls_single_data = utils.load_pickle(mls_single_file)[0]\n",
    "row1 = ['MLS', mls_single_data[\"best_cut_size\"], mls_single_data[\"time_elapsed\"]]\n",
    "#pmin=0.001, a=0.6, b=0.2, threshold=0.6, st=30\n",
    "ils_ada_single_data = utils.load_pickle(ils_ada_single_file)[0]\n",
    "row2 = ['ILS-ADA', ils_ada_single_data[\"best_cut_size\"], ils_ada_single_data[\"time_elapsed\"]]\n",
    "\n",
    "ils_ada_stg_single_data = utils.load_pickle(ils_ada_stg_single_file)[0]\n",
    "row3 = ['ILS-ADA-STG', ils_ada_stg_single_data[\"best_cut_size\"], ils_ada_stg_single_data[\"time_elapsed\"]]\n",
    "\n",
    "ils_single_data = utils.load_pickle(ils_single_file)[0]\n",
    "row4 = ['ILS', ils_single_data[\"best_cut_size\"], ils_single_data[\"time_elapsed\"]]\n",
    "\n",
    "gls_single_data = utils.load_pickle(gls_single_file)\n",
    "row5 = ['GLS', gls_single_data[\"cut_sizes\"][0], gls_single_data[\"run_times\"][0]]\n",
    "\n",
    "columns = [\"Algorithm\", \"Best Cut\", \"Time (s)\", \"Best Solution\", \"Best Solution Value\"]\n"
   ]
  },
  {
   "cell_type": "markdown",
   "metadata": {},
   "source": [
    "Experiment 2 - 25 runs with fixed CPU time of 450 seconds each for all algorithms."
   ]
  },
  {
   "cell_type": "code",
   "execution_count": 10,
   "metadata": {},
   "outputs": [
    {
     "name": "stderr",
     "output_type": "stream",
     "text": [
      "/var/folders/lm/8m47310n0sbc6d8tdlxcd8pw0000gn/T/ipykernel_74641/741526991.py:48: MatplotlibDeprecationWarning: The 'labels' parameter of boxplot() has been renamed 'tick_labels' since Matplotlib 3.9; support for the old name will be dropped in 3.11.\n",
      "  plt.boxplot(cut_sizes, labels=algorithms)\n"
     ]
    },
    {
     "data": {
      "image/png": "[encoded data removed]",
      "text/plain": [
       "<Figure size 640x480 with 1 Axes>"
      ]
     },
     "metadata": {},
     "output_type": "display_data"
    }
   ],
   "source": [
    "mls_results_file = \"pckl/final_results/2025-03-31_21-09-02_MLS-CPU-TIME-runs_25-cpu_time_450-best_cut_27.16-time_440.404.pkl\"\n",
    "ils_results_file = \"pckl/final_results/2025-03-31_20-04-51_ILS-CPU_TIME-runs_25-max_cpu450-best_cut_8.92-time_450.08.pkl\"\n",
    "gls_results_file = \"pckl/final_results/20250331-204030_GLS-25-pop_size_50-CPU_TIME_450.pkl\"\n",
    "ils_ada_folder = \"pckl/final_results/ils_ada25\"\n",
    "ils_ada_staging_folder = \"pckl/final_results/ils_ada_staging25\"\n",
    "#load the MLS results\n",
    "mls_data = utils.load_pickle(mls_results_file) \n",
    "mls_stats = mls_data[-1]\n",
    "mls_data = mls_data[:-1] #drop the last row which is a summary\n",
    "\n",
    "mls = pd.DataFrame(mls_data)\n",
    "cut_sizes_mls = list(mls['best_cut_size'])\n",
    "\n",
    "#load the ILS results\n",
    "ils_data = utils.load_pickle(ils_results_file)[:-1] \n",
    "ils = pd.DataFrame(ils_data)\n",
    "cut_sizes_ils = list(ils['best_cut_size'])\n",
    "\n",
    "#load the ILS-ADA results\n",
    "ilsa_data = ila._load_results_from_folder(ils_ada_folder)\n",
    "ilsa_data = ilsa_data[:-1] #drop the last row which is a summary\n",
    "rows = []\n",
    "for i in range(len(ilsa_data)):\n",
    "    rows.append(ilsa_data[i][0])\n",
    "ils_ada = pd.DataFrame(rows)\n",
    "\n",
    "#{'p_min': 0.0001, 'alpha': 0.4, 'beta': 0.2, 'use_stage_weights': False}\n",
    "cut_sizes_ils_ada = list(ils_ada['best_cut_size'])\n",
    "\n",
    "#load the ILS-ADA with Staging results\n",
    "ilstaging_data = ila._load_results_from_folder(ils_ada_staging_folder)\n",
    "rows = []\n",
    "for i in range(len(ilstaging_data)):\n",
    "    rows.append(ilstaging_data[i][0])\n",
    "ilstaging = pd.DataFrame(rows)\n",
    "\n",
    "#{'p_min': 0.0001, 'alpha': 0.4, 'beta': 0.2, 'use_stage_weights': False}\n",
    "cut_sizes_ilstaging = list(ilstaging['best_cut_size'])\n",
    "\n",
    "#load the GLS results\n",
    "gls = utils.load_pickle(gls_results_file)\n",
    "cut_sizes_gls = gls['cut_sizes']\n",
    "\n",
    "algorithms = ['MLS','ILS-ADA','ILS-ADA-STG','ILS', 'GLS']\n",
    "cut_sizes = [cut_sizes_mls, cut_sizes_ils_ada,cut_sizes_ilstaging, cut_sizes_ils, cut_sizes_gls]\n",
    "\n",
    "#box plots\n",
    "plt.boxplot(cut_sizes, labels=algorithms)\n",
    "plt.title(\"Cut Sizes (25 runs, each with 10,000 FM passes)\")\n",
    "plt.ylabel(\"Cut Size\")\n",
    "plt.show()\n"
   ]
  },
  {
   "cell_type": "markdown",
   "metadata": {},
   "source": [
    "Statistical significance tests."
   ]
  },
  {
   "cell_type": "code",
   "execution_count": 7,
   "metadata": {},
   "outputs": [
    {
     "data": {
      "text/html": [
       "<style type=\"text/css\">\n",
       "#T_a19b2 th {\n",
       "  text-align: center;\n",
       "}\n",
       "#T_a19b2_row0_col0, #T_a19b2_row0_col1, #T_a19b2_row0_col2, #T_a19b2_row0_col3, #T_a19b2_row0_col4, #T_a19b2_row1_col0, #T_a19b2_row1_col1, #T_a19b2_row1_col2, #T_a19b2_row1_col3, #T_a19b2_row1_col4, #T_a19b2_row2_col0, #T_a19b2_row2_col1, #T_a19b2_row2_col2, #T_a19b2_row2_col3, #T_a19b2_row2_col4, #T_a19b2_row3_col0, #T_a19b2_row3_col1, #T_a19b2_row3_col2, #T_a19b2_row3_col3, #T_a19b2_row3_col4, #T_a19b2_row4_col0, #T_a19b2_row4_col1, #T_a19b2_row4_col2, #T_a19b2_row4_col3, #T_a19b2_row4_col4 {\n",
       "  text-align: center;\n",
       "}\n",
       "</style>\n",
       "<table id=\"T_a19b2\">\n",
       "  <thead>\n",
       "    <tr>\n",
       "      <th class=\"blank level0\" >&nbsp;</th>\n",
       "      <th id=\"T_a19b2_level0_col0\" class=\"col_heading level0 col0\" >MLS</th>\n",
       "      <th id=\"T_a19b2_level0_col1\" class=\"col_heading level0 col1\" >ILS-ADA</th>\n",
       "      <th id=\"T_a19b2_level0_col2\" class=\"col_heading level0 col2\" >ILS-ADA-STG</th>\n",
       "      <th id=\"T_a19b2_level0_col3\" class=\"col_heading level0 col3\" >ILS</th>\n",
       "      <th id=\"T_a19b2_level0_col4\" class=\"col_heading level0 col4\" >GLS</th>\n",
       "    </tr>\n",
       "  </thead>\n",
       "  <tbody>\n",
       "    <tr>\n",
       "      <th id=\"T_a19b2_level0_row0\" class=\"row_heading level0 row0\" >MLS</th>\n",
       "      <td id=\"T_a19b2_row0_col0\" class=\"data row0 col0\" >1.0000</td>\n",
       "      <td id=\"T_a19b2_row0_col1\" class=\"data row0 col1\" >0.4512</td>\n",
       "      <td id=\"T_a19b2_row0_col2\" class=\"data row0 col2\" >0.0000</td>\n",
       "      <td id=\"T_a19b2_row0_col3\" class=\"data row0 col3\" >0.0000</td>\n",
       "      <td id=\"T_a19b2_row0_col4\" class=\"data row0 col4\" >0.0000</td>\n",
       "    </tr>\n",
       "    <tr>\n",
       "      <th id=\"T_a19b2_level0_row1\" class=\"row_heading level0 row1\" >ILS-ADA</th>\n",
       "      <td id=\"T_a19b2_row1_col0\" class=\"data row1 col0\" >0.4512</td>\n",
       "      <td id=\"T_a19b2_row1_col1\" class=\"data row1 col1\" >1.0000</td>\n",
       "      <td id=\"T_a19b2_row1_col2\" class=\"data row1 col2\" >0.0000</td>\n",
       "      <td id=\"T_a19b2_row1_col3\" class=\"data row1 col3\" >0.0000</td>\n",
       "      <td id=\"T_a19b2_row1_col4\" class=\"data row1 col4\" >0.0000</td>\n",
       "    </tr>\n",
       "    <tr>\n",
       "      <th id=\"T_a19b2_level0_row2\" class=\"row_heading level0 row2\" >ILS-ADA-STG</th>\n",
       "      <td id=\"T_a19b2_row2_col0\" class=\"data row2 col0\" >0.0000</td>\n",
       "      <td id=\"T_a19b2_row2_col1\" class=\"data row2 col1\" >0.0000</td>\n",
       "      <td id=\"T_a19b2_row2_col2\" class=\"data row2 col2\" >1.0000</td>\n",
       "      <td id=\"T_a19b2_row2_col3\" class=\"data row2 col3\" >0.0006</td>\n",
       "      <td id=\"T_a19b2_row2_col4\" class=\"data row2 col4\" >0.0000</td>\n",
       "    </tr>\n",
       "    <tr>\n",
       "      <th id=\"T_a19b2_level0_row3\" class=\"row_heading level0 row3\" >ILS</th>\n",
       "      <td id=\"T_a19b2_row3_col0\" class=\"data row3 col0\" >0.0000</td>\n",
       "      <td id=\"T_a19b2_row3_col1\" class=\"data row3 col1\" >0.0000</td>\n",
       "      <td id=\"T_a19b2_row3_col2\" class=\"data row3 col2\" >0.0006</td>\n",
       "      <td id=\"T_a19b2_row3_col3\" class=\"data row3 col3\" >1.0000</td>\n",
       "      <td id=\"T_a19b2_row3_col4\" class=\"data row3 col4\" >0.3275</td>\n",
       "    </tr>\n",
       "    <tr>\n",
       "      <th id=\"T_a19b2_level0_row4\" class=\"row_heading level0 row4\" >GLS</th>\n",
       "      <td id=\"T_a19b2_row4_col0\" class=\"data row4 col0\" >0.0000</td>\n",
       "      <td id=\"T_a19b2_row4_col1\" class=\"data row4 col1\" >0.0000</td>\n",
       "      <td id=\"T_a19b2_row4_col2\" class=\"data row4 col2\" >0.0000</td>\n",
       "      <td id=\"T_a19b2_row4_col3\" class=\"data row4 col3\" >0.3275</td>\n",
       "      <td id=\"T_a19b2_row4_col4\" class=\"data row4 col4\" >1.0000</td>\n",
       "    </tr>\n",
       "  </tbody>\n",
       "</table>\n"
      ],
      "text/plain": [
       "<IPython.core.display.HTML object>"
      ]
     },
     "execution_count": 7,
     "metadata": {},
     "output_type": "execute_result"
    }
   ],
   "source": [
    "#Perform the statistical tests. You need to run the previous code block to get the cut sizes.\n",
    "data = np.full((len(algorithms), len(algorithms)), np.nan)\n",
    "for i in range(len(algorithms)):\n",
    "    for j in range(len(algorithms)):\n",
    "        if i == j:\n",
    "            data[i][j] = np.float64(1)\n",
    "        else:\n",
    "            data[i][j] = utils.perform_mann_whitney_u_test(cut_sizes[i], cut_sizes[j])[1]\n",
    "\n",
    "columns = algorithms\n",
    "index = algorithms\n",
    "df = pd.DataFrame(data, columns=columns, index=index)\n",
    "styled_df = df.style.set_properties(**{'text-align': 'center'})\n",
    "styled_df = styled_df.format(precision=4)\n",
    "styled_df = styled_df.set_table_styles([{'selector': 'th', 'props': [('text-align', 'center')]}])\n",
    "html_table = styled_df.to_html()\n",
    "HTML(html_table)"
   ]
  },
  {
   "cell_type": "markdown",
   "metadata": {},
   "source": [
    "Results summary table"
   ]
  },
  {
   "cell_type": "code",
   "execution_count": 8,
   "metadata": {},
   "outputs": [
    {
     "data": {
      "text/html": [
       "<style type=\"text/css\">\n",
       "#T_9ff92 th {\n",
       "  text-align: center;\n",
       "}\n",
       "#T_9ff92_row0_col0, #T_9ff92_row0_col1, #T_9ff92_row0_col2, #T_9ff92_row0_col3, #T_9ff92_row0_col4, #T_9ff92_row1_col0, #T_9ff92_row1_col1, #T_9ff92_row1_col2, #T_9ff92_row1_col3, #T_9ff92_row1_col4, #T_9ff92_row2_col0, #T_9ff92_row2_col1, #T_9ff92_row2_col2, #T_9ff92_row2_col3, #T_9ff92_row2_col4, #T_9ff92_row3_col0, #T_9ff92_row3_col1, #T_9ff92_row3_col2, #T_9ff92_row3_col3, #T_9ff92_row3_col4, #T_9ff92_row4_col0, #T_9ff92_row4_col1, #T_9ff92_row4_col2, #T_9ff92_row4_col3, #T_9ff92_row4_col4 {\n",
       "  text-align: center;\n",
       "}\n",
       "</style>\n",
       "<table id=\"T_9ff92\">\n",
       "  <thead>\n",
       "    <tr>\n",
       "      <th id=\"T_9ff92_level0_col0\" class=\"col_heading level0 col0\" >Algorithm</th>\n",
       "      <th id=\"T_9ff92_level0_col1\" class=\"col_heading level0 col1\" >Best Cut</th>\n",
       "      <th id=\"T_9ff92_level0_col2\" class=\"col_heading level0 col2\" >Mean</th>\n",
       "      <th id=\"T_9ff92_level0_col3\" class=\"col_heading level0 col3\" >Median</th>\n",
       "      <th id=\"T_9ff92_level0_col4\" class=\"col_heading level0 col4\" >Std Dev</th>\n",
       "    </tr>\n",
       "  </thead>\n",
       "  <tbody>\n",
       "    <tr>\n",
       "      <td id=\"T_9ff92_row0_col0\" class=\"data row0 col0\" >MLS</td>\n",
       "      <td id=\"T_9ff92_row0_col1\" class=\"data row0 col1\" >19</td>\n",
       "      <td id=\"T_9ff92_row0_col2\" class=\"data row0 col2\" >27.16</td>\n",
       "      <td id=\"T_9ff92_row0_col3\" class=\"data row0 col3\" >28.00</td>\n",
       "      <td id=\"T_9ff92_row0_col4\" class=\"data row0 col4\" >3.06</td>\n",
       "    </tr>\n",
       "    <tr>\n",
       "      <td id=\"T_9ff92_row1_col0\" class=\"data row1 col0\" >ILS-ADA</td>\n",
       "      <td id=\"T_9ff92_row1_col1\" class=\"data row1 col1\" >15</td>\n",
       "      <td id=\"T_9ff92_row1_col2\" class=\"data row1 col2\" >25.92</td>\n",
       "      <td id=\"T_9ff92_row1_col3\" class=\"data row1 col3\" >27.00</td>\n",
       "      <td id=\"T_9ff92_row1_col4\" class=\"data row1 col4\" >5.69</td>\n",
       "    </tr>\n",
       "    <tr>\n",
       "      <td id=\"T_9ff92_row2_col0\" class=\"data row2 col0\" >ILS-ADA-STG</td>\n",
       "      <td id=\"T_9ff92_row2_col1\" class=\"data row2 col1\" >7</td>\n",
       "      <td id=\"T_9ff92_row2_col2\" class=\"data row2 col2\" >12.64</td>\n",
       "      <td id=\"T_9ff92_row2_col3\" class=\"data row2 col3\" >13.00</td>\n",
       "      <td id=\"T_9ff92_row2_col4\" class=\"data row2 col4\" >3.81</td>\n",
       "    </tr>\n",
       "    <tr>\n",
       "      <td id=\"T_9ff92_row3_col0\" class=\"data row3 col0\" >ILS</td>\n",
       "      <td id=\"T_9ff92_row3_col1\" class=\"data row3 col1\" >4</td>\n",
       "      <td id=\"T_9ff92_row3_col2\" class=\"data row3 col2\" >8.92</td>\n",
       "      <td id=\"T_9ff92_row3_col3\" class=\"data row3 col3\" >8.00</td>\n",
       "      <td id=\"T_9ff92_row3_col4\" class=\"data row3 col4\" >2.58</td>\n",
       "    </tr>\n",
       "    <tr>\n",
       "      <td id=\"T_9ff92_row4_col0\" class=\"data row4 col0\" >GLS</td>\n",
       "      <td id=\"T_9ff92_row4_col1\" class=\"data row4 col1\" >2</td>\n",
       "      <td id=\"T_9ff92_row4_col2\" class=\"data row4 col2\" >8.00</td>\n",
       "      <td id=\"T_9ff92_row4_col3\" class=\"data row4 col3\" >8.00</td>\n",
       "      <td id=\"T_9ff92_row4_col4\" class=\"data row4 col4\" >2.43</td>\n",
       "    </tr>\n",
       "  </tbody>\n",
       "</table>\n"
      ],
      "text/plain": [
       "<IPython.core.display.HTML object>"
      ]
     },
     "execution_count": 8,
     "metadata": {},
     "output_type": "execute_result"
    }
   ],
   "source": [
    "#Generate the results table.\n",
    "mls_best = min(cut_sizes_mls)\n",
    "mean_mls = np.mean(cut_sizes_mls)\n",
    "mls_median = np.median(cut_sizes_mls)\n",
    "stdev_mls = np.std(cut_sizes_mls)\n",
    "\n",
    "ils_best = min(cut_sizes_ils)\n",
    "mean_ils = np.mean(cut_sizes_ils)\n",
    "ils_median = np.median(cut_sizes_ils)\n",
    "stdev_ils = np.std(cut_sizes_ils)\n",
    "\n",
    "ils_ada_best = min(cut_sizes_ils_ada)\n",
    "mean_ils_ada = np.mean(cut_sizes_ils_ada)\n",
    "ils_ada_median = np.median(cut_sizes_ils_ada)\n",
    "stdev_ils_ada = np.std(cut_sizes_ils_ada)\n",
    "\n",
    "ils_staging_best = min(cut_sizes_ilstaging)\n",
    "mean_ils_staging = np.mean(cut_sizes_ilstaging)\n",
    "ils_staging_median = np.median(cut_sizes_ilstaging)\n",
    "stdev_ils_staging = np.std(cut_sizes_ilstaging)\n",
    "\n",
    "gls_best = min(cut_sizes_gls)\n",
    "mean_gls = np.mean(cut_sizes_gls)\n",
    "gls_median = np.median(cut_sizes_gls)\n",
    "stdev_gls = np.std(cut_sizes_gls)\n",
    "\n",
    "columns = ['Algorithm', 'Best Cut', 'Mean', 'Median', 'Std Dev']\n",
    "res_data = []\n",
    "res_data.append(['MLS', mls_best, mean_mls, mls_median, stdev_mls])\n",
    "res_data.append(['ILS-ADA', ils_ada_best, mean_ils_ada, ils_ada_median, stdev_ils_ada])\n",
    "res_data.append(['ILS-ADA-STG', ils_staging_best, mean_ils_staging, ils_staging_median, stdev_ils_staging])\n",
    "res_data.append(['ILS', ils_best, mean_ils, ils_median, stdev_ils])\n",
    "res_data.append(['GLS', gls_best, mean_gls, gls_median, stdev_gls])\n",
    "df = pd.DataFrame(res_data, columns=columns)\n",
    "styled_df = df.style.set_properties(**{'text-align': 'center'})\n",
    "styled_df = styled_df.format(precision=2)\n",
    "styled_df = styled_df.set_table_styles([{'selector': 'th', 'props': [('text-align', 'center')]}])\n",
    "styled_df = styled_df.hide(axis='index')\n",
    "html_table = styled_df.to_html()\n",
    "HTML(html_table)"
   ]
  }
 ],
 "metadata": {
  "kernelspec": {
   "display_name": "Python 3",
   "language": "python",
   "name": "python3"
  },
  "language_info": {
   "codemirror_mode": {
    "name": "ipython",
    "version": 3
   },
   "file_extension": ".py",
   "mimetype": "text/x-python",
   "name": "python",
   "nbconvert_exporter": "python",
   "pygments_lexer": "ipython3",
   "version": "3.12.5"
  }
 },
 "nbformat": 4,
 "nbformat_minor": 2
}
