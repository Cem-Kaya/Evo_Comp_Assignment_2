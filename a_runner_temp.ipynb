{
 "cells": [
  {
   "cell_type": "code",
   "execution_count": null,
   "metadata": {},
   "outputs": [],
   "source": [
    "import time\n",
    "import pickle\n",
    "import statistics\n",
    "import random\n",
    "import matplotlib.pyplot as plt\n",
    "from gls import GLS  "
   ]
  },
  {
   "cell_type": "code",
   "execution_count": null,
   "metadata": {},
   "outputs": [],
   "source": [
    "NUM_RUNS = 25\n",
    "POP_SIZE = 50\n",
    "MAX_ITERATIONS = 10000   # 10_000 iterations\n",
    "CPU_TIME = 450\n",
    "random_seeds = list(range(NUM_RUNS))  # or pick any 10 distinct seeds\n",
    "\n",
    "gls_cut_sizes = []\n",
    "gls_times = []\n",
    "\n",
    "for i in range(NUM_RUNS):\n",
    "    seed = random_seeds[i]\n",
    "    print(f\"Starting GLS run {i+1}/{NUM_RUNS} with seed={seed}\")\n",
    "\n",
    "    start_time = time.time()\n",
    "\n",
    "    # GLS \n",
    "    gls = GLS(\n",
    "        graph_filename=\"Graph500.txt\",\n",
    "        pop_size=POP_SIZE,\n",
    "        max_iterations=MAX_ITERATIONS,\n",
    "        random_seed=seed\n",
    "    )\n",
    "\n",
    "    best_cut_size = gls.run_gls_time(time_limit_seconds=CPU_TIME)\n",
    "\n",
    "    end_time = time.time()\n",
    "    elapsed = end_time - start_time\n",
    "\n",
    "    # Record results\n",
    "    gls_cut_sizes.append(best_cut_size)\n",
    "    gls_times.append(elapsed)\n",
    "\n",
    "    print(f\"Run {i+1} done. Best cut size = {best_cut_size}, Time = {elapsed:.2f}s\")\n",
    "    \n",
    "gls_results_dict = {\n",
    "    \"cut_sizes\": gls_cut_sizes,\n",
    "    \"run_times\": gls_times,\n",
    "    \"timestamp\": time.strftime(\"%Y-%m-%d %H:%M:%S\")  # readable timestamp inside the file\n",
    "}\n",
    "\n",
    "timestamp = time.strftime(\"%Y%m%d-%H%M%S\")\n",
    "solution_filename = f\"pckl/{timestamp}_GLS-25-pop_size_{POP_SIZE}-CPU_TIME_{CPU_TIME}.pkl\"\n",
    "\n",
    "with open(solution_filename, \"wb\") as f:\n",
    "    pickle.dump(gls_results_dict, f)\n",
    "\n",
    "print(f\"GLS results have been pickled to '{solution_filename}'.\")\n"
   ]
  }
 ],
 "metadata": {
  "kernelspec": {
   "display_name": "Python 3",
   "language": "python",
   "name": "python3"
  },
  "language_info": {
   "codemirror_mode": {
    "name": "ipython",
    "version": 3
   },
   "file_extension": ".py",
   "mimetype": "text/x-python",
   "name": "python",
   "nbconvert_exporter": "python",
   "pygments_lexer": "ipython3",
   "version": "3.12.5"
  }
 },
 "nbformat": 4,
 "nbformat_minor": 2
}
