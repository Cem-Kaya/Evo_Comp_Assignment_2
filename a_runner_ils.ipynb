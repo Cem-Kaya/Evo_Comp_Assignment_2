{
 "cells": [
  {
   "cell_type": "markdown",
   "metadata": {},
   "source": [
    "Experiment ILS with 25 runs."
   ]
  },
  {
   "cell_type": "markdown",
   "metadata": {},
   "source": [
    "Experiment ILS with 10.000 FM Passes."
   ]
  },
  {
   "cell_type": "code",
   "execution_count": null,
   "metadata": {},
   "outputs": [
    {
     "name": "stdout",
     "output_type": "stream",
     "text": [
      "ILS - Mutation Size: 70. Best Cut: 9.\n",
      "ILS -0- Mutation Size: 70. Best Cut: 9.\n"
     ]
    },
    {
     "data": {
      "text/plain": [
       "(9,\n",
       " 9,\n",
       " [{'max_iterations': 10000,\n",
       "   'max_cpu_time': 0,\n",
       "   'is_adaptive': False,\n",
       "   'n_iterations': 10001,\n",
       "   'mutation_size': 70,\n",
       "   'initial_cut': 638,\n",
       "   'best_cut_size': 9,\n",
       "   'time_elapsed': 449.7970790863037,\n",
       "   'avg_best_cut_size': 9.873212678732127,\n",
       "   'avg_cut_size': 27.367263273672634,\n",
       "   'n_stays_in_local_optimum': 26},\n",
       "  {'Algorithm': 'ILS',\n",
       "   'runs': 1,\n",
       "   'mutation_size': 70,\n",
       "   'max_iterations': 10000,\n",
       "   'best_cut': 9,\n",
       "   'avg_best_cut_size': 9,\n",
       "   'avg_time_elapsed': 449.7970790863037}])"
      ]
     },
     "execution_count": 1,
     "metadata": {},
     "output_type": "execute_result"
    }
   ],
   "source": [
    "import experimentation as exp\n",
    "exp.run_ils(mutation_size=70, max_iterations=10000, runs=1, exp_name=\"ILS\")"
   ]
  },
  {
   "cell_type": "markdown",
   "metadata": {},
   "source": [
    "Experiment ILS with Fixed CPU clock 25 runs."
   ]
  },
  {
   "cell_type": "code",
   "execution_count": null,
   "metadata": {},
   "outputs": [
    {
     "name": "stdout",
     "output_type": "stream",
     "text": [
      "ILS - CPU Time [0]: 450. Best Cut: 6.\n"
     ]
    },
    {
     "data": {
      "text/plain": [
       "(6,\n",
       " 6,\n",
       " [{'max_iterations': 0,\n",
       "   'max_cpu_time': 450,\n",
       "   'is_adaptive': False,\n",
       "   'n_iterations': 9731,\n",
       "   'mutation_size': 70,\n",
       "   'initial_cut': 654,\n",
       "   'best_cut_size': 6,\n",
       "   'time_elapsed': 450.131108045578,\n",
       "   'avg_best_cut_size': 7.654917274689137,\n",
       "   'avg_cut_size': 26.262768471893946,\n",
       "   'n_stays_in_local_optimum': 17},\n",
       "  {'Algorithm': 'ILS-CPU_TIME',\n",
       "   'mutation_size': 70,\n",
       "   'runs': 1,\n",
       "   'max_iterations': 'N/A',\n",
       "   'target_cut': -1,\n",
       "   'max_cpu_time': 450,\n",
       "   'best_cut': 6,\n",
       "   'avg_best_cut_size': 6,\n",
       "   'avg_time_elapsed': 450.131108045578}])"
      ]
     },
     "execution_count": 2,
     "metadata": {},
     "output_type": "execute_result"
    }
   ],
   "source": [
    "import experimentation as exp\n",
    "mutation_size=70\n",
    "max_cpu_time=450\n",
    "runs = 25\n",
    "exp.run_ils_cpu_time(mutation_size=mutation_size, max_cpu_time=max_cpu_time, runs=runs,target_cut=-1)"
   ]
  }
 ],
 "metadata": {
  "kernelspec": {
   "display_name": "Python 3",
   "language": "python",
   "name": "python3"
  },
  "language_info": {
   "codemirror_mode": {
    "name": "ipython",
    "version": 3
   },
   "file_extension": ".py",
   "mimetype": "text/x-python",
   "name": "python",
   "nbconvert_exporter": "python",
   "pygments_lexer": "ipython3",
   "version": "3.12.5"
  }
 },
 "nbformat": 4,
 "nbformat_minor": 2
}
