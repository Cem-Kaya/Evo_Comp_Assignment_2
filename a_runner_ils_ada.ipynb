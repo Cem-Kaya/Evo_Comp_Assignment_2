{
 "cells": [
  {
   "cell_type": "markdown",
   "metadata": {},
   "source": [
    "Run ILS-ADA 10.000"
   ]
  },
  {
   "cell_type": "code",
   "execution_count": 2,
   "metadata": {},
   "outputs": [
    {
     "name": "stdout",
     "output_type": "stream",
     "text": [
      "ILS-ADA-0 - Best Cut: 29.\n"
     ]
    },
    {
     "data": {
      "text/plain": [
       "(29,\n",
       " [{'max_iterations': 10000,\n",
       "   'max_cpu_time': 0,\n",
       "   'is_adaptive': True,\n",
       "   'n_iterations': 10001,\n",
       "   'mutation_size': 20,\n",
       "   'initial_cut': 635,\n",
       "   'best_cut_size': 29,\n",
       "   'time_elapsed': 419.2827150821686,\n",
       "   'avg_best_cut_size': 29.191980801919808,\n",
       "   'avg_cut_size': 29.452254774522547,\n",
       "   'n_stays_in_local_optimum': 8556,\n",
       "   'p_min': 0.001,\n",
       "   'alpha': 0.6,\n",
       "   'beta': 0.2,\n",
       "   'enable_staging': False,\n",
       "   'stage_cut': 40,\n",
       "   'threshold': 0.6,\n",
       "   'best_cut': 29,\n",
       "   'mutation_sizes': [10, 10, 10, 20, 40, 30, 30, 40, 10, 10, 10, 20, 20],\n",
       "   'best_cuts': [53, 45, 44, 43, 40, 39, 35, 34, 33, 32, 31, 30, 29]}])"
      ]
     },
     "execution_count": 2,
     "metadata": {},
     "output_type": "execute_result"
    }
   ],
   "source": [
    "import experimentation as exp\n",
    "operators = [10,20,30,40,45,50,55,60,65,70]\n",
    "p_min = 0.001\n",
    "alpha = 0.6\n",
    "beta = 0.2\n",
    "target_cut = 2\n",
    "max_cpu_time=450\n",
    "max_iterations = 10000\n",
    "\n",
    "exp.experiment_adaptive_ils(operators=operators,p_min=p_min,alpha=alpha,beta=beta,max_iterations=max_iterations)"
   ]
  },
  {
   "cell_type": "markdown",
   "metadata": {},
   "source": [
    "Run ILS-ADA with fixed CPU clock time, 25 runs."
   ]
  },
  {
   "cell_type": "code",
   "execution_count": null,
   "metadata": {},
   "outputs": [
    {
     "name": "stdout",
     "output_type": "stream",
     "text": [
      "Running Adaptive ILS for 450 seconds...\n"
     ]
    }
   ],
   "source": [
    "import experimentation as exp\n",
    "operators = [10,20,30,40,45,50,55,60,65,70]\n",
    "p_min = 0.001\n",
    "alpha = 0.6\n",
    "beta = 0.2\n",
    "target_cut = -1\n",
    "max_cpu_time=450\n",
    "runs = 25\n",
    "exp.run_ils_ada_cpu_time(operators, p_min, alpha, beta, target_cut, max_cpu_time, runs)"
   ]
  }
 ],
 "metadata": {
  "kernelspec": {
   "display_name": "Python 3",
   "language": "python",
   "name": "python3"
  },
  "language_info": {
   "codemirror_mode": {
    "name": "ipython",
    "version": 3
   },
   "file_extension": ".py",
   "mimetype": "text/x-python",
   "name": "python",
   "nbconvert_exporter": "python",
   "pygments_lexer": "ipython3",
   "version": "3.12.5"
  }
 },
 "nbformat": 4,
 "nbformat_minor": 2
}
