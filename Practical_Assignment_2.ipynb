{
 "cells": [
  {
   "cell_type": "code",
   "execution_count": 1,
   "metadata": {},
   "outputs": [],
   "source": [
    "#imports\n",
    "import experiments as exp\n",
    "experiment_runs = 10"
   ]
  },
  {
   "cell_type": "markdown",
   "metadata": {},
   "source": [
    "This part is MLS. It runs the FM local search 10.000 times."
   ]
  },
  {
   "cell_type": "code",
   "execution_count": 2,
   "metadata": {},
   "outputs": [
    {
     "name": "stdout",
     "output_type": "stream",
     "text": [
      "Elapsed time: 0.45 seconds to run 10 experiments\n"
     ]
    }
   ],
   "source": [
    "from IPython.display import HTML\n",
    "import pandas as pd\n",
    "import time\n",
    "\n",
    "#Run the multi start local search algorithm 10.000 times. The return value is a list of dictionaries.\n",
    "#Each dictionary contains the results of one full FM run. \n",
    "#Each dictionary contains the following keys:\n",
    "\"\"\"\n",
    "\"fm_runs\": number of runs until convergence,\n",
    "\"run_times\": a list of the run times of each run,\n",
    "\"total_elapsed\": total time elapsed,\n",
    "\"average_elapsed\": average time elapsed,\n",
    "\"cut_size\": best cut size found,\n",
    "\"partition_1\": a list of node ids in partition 1,\n",
    "\"partition_2\": a list of node ids in partition 2,\n",
    "\"initial_cut_size\": initial cut size\n",
    "\"\"\"\n",
    "start_time = time.time()\n",
    "results = exp.run_mls(runs=experiment_runs)\n",
    "end_time = time.time()\n",
    "\n",
    "elapsed_time = end_time - start_time\n",
    "print(f\"Elapsed time: {elapsed_time:.2f} seconds to run {experiment_runs} experiments\")"
   ]
  },
  {
   "cell_type": "code",
   "execution_count": 4,
   "metadata": {},
   "outputs": [
    {
     "data": {
      "text/html": [
       "<table border=\"1\" class=\"dataframe\">\n",
       "  <thead>\n",
       "    <tr style=\"text-align: right;\">\n",
       "      <th>Metric</th>\n",
       "      <th>Value</th>\n",
       "    </tr>\n",
       "  </thead>\n",
       "  <tbody>\n",
       "    <tr>\n",
       "      <td>Total Runs</td>\n",
       "      <td>10.000000</td>\n",
       "    </tr>\n",
       "    <tr>\n",
       "      <td>Average Runs</td>\n",
       "      <td>501.000000</td>\n",
       "    </tr>\n",
       "    <tr>\n",
       "      <td>Average Elapsed (full FM)</td>\n",
       "      <td>0.043714</td>\n",
       "    </tr>\n",
       "    <tr>\n",
       "      <td>Average Elapsed (single run)</td>\n",
       "      <td>0.000087</td>\n",
       "    </tr>\n",
       "    <tr>\n",
       "      <td>Total Elapsed</td>\n",
       "      <td>0.437139</td>\n",
       "    </tr>\n",
       "    <tr>\n",
       "      <td>Average Cut Size</td>\n",
       "      <td>64.200000</td>\n",
       "    </tr>\n",
       "    <tr>\n",
       "      <td>Best Cut Size</td>\n",
       "      <td>43.000000</td>\n",
       "    </tr>\n",
       "    <tr>\n",
       "      <td>Worst Cut Size</td>\n",
       "      <td>86.000000</td>\n",
       "    </tr>\n",
       "    <tr>\n",
       "      <td>Average Initial Cut Size</td>\n",
       "      <td>637.700000</td>\n",
       "    </tr>\n",
       "    <tr>\n",
       "      <td>Best Initial Cut Size</td>\n",
       "      <td>623.000000</td>\n",
       "    </tr>\n",
       "    <tr>\n",
       "      <td>Worst Initial Cut Size</td>\n",
       "      <td>656.000000</td>\n",
       "    </tr>\n",
       "  </tbody>\n",
       "</table>"
      ],
      "text/plain": [
       "<IPython.core.display.HTML object>"
      ]
     },
     "execution_count": 4,
     "metadata": {},
     "output_type": "execute_result"
    }
   ],
   "source": [
    "summary = exp.summarize_results(results)\n",
    "\n",
    "# Convert summary to DataFrame for better display\n",
    "df = pd.DataFrame(list(summary.items()), columns=['Metric', 'Value'])\n",
    "HTML(df.to_html(index=False))"
   ]
  }
 ],
 "metadata": {
  "kernelspec": {
   "display_name": "Python 3",
   "language": "python",
   "name": "python3"
  },
  "language_info": {
   "codemirror_mode": {
    "name": "ipython",
    "version": 3
   },
   "file_extension": ".py",
   "mimetype": "text/x-python",
   "name": "python",
   "nbconvert_exporter": "python",
   "pygments_lexer": "ipython3",
   "version": "3.12.5"
  }
 },
 "nbformat": 4,
 "nbformat_minor": 2
}
