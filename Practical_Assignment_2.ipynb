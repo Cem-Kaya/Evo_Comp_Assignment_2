{
 "cells": [
  {
   "cell_type": "code",
   "execution_count": 5,
   "metadata": {},
   "outputs": [],
   "source": [
    "#imports\n",
    "import experiments as exp\n",
    "experiment_runs = 10000"
   ]
  },
  {
   "cell_type": "markdown",
   "metadata": {},
   "source": [
    "This part is MLS. It runs the FM local search 10.000 times."
   ]
  },
  {
   "cell_type": "code",
   "execution_count": 6,
   "metadata": {},
   "outputs": [
    {
     "name": "stdout",
     "output_type": "stream",
     "text": [
      "Elapsed time: 458.80 seconds to run 10000 experiments\n"
     ]
    }
   ],
   "source": [
    "from IPython.display import HTML\n",
    "import pandas as pd\n",
    "import time\n",
    "\n",
    "#Run the multi start local search algorithm 10.000 times. The return value is a list of dictionaries.\n",
    "#Each dictionary contains the results of one full FM run. \n",
    "#Each dictionary contains the following keys:\n",
    "\"\"\"\n",
    "\"fm_runs\": number of runs until convergence,\n",
    "\"run_times\": a list of the run times of each run,\n",
    "\"total_elapsed\": total time elapsed,\n",
    "\"average_elapsed\": average time elapsed,\n",
    "\"cut_size\": best cut size found,\n",
    "\"partition_1\": a list of node ids in partition 1,\n",
    "\"partition_2\": a list of node ids in partition 2,\n",
    "\"initial_cut_size\": initial cut size\n",
    "\"\"\"\n",
    "start_time = time.time()\n",
    "results = exp.run_mls(runs=experiment_runs)\n",
    "end_time = time.time()\n",
    "\n",
    "elapsed_time = end_time - start_time\n",
    "print(f\"Elapsed time: {elapsed_time:.2f} seconds to run {experiment_runs} experiments\")"
   ]
  },
  {
   "cell_type": "code",
   "execution_count": 8,
   "metadata": {},
   "outputs": [
    {
     "data": {
      "text/html": [
       "<table border=\"1\" class=\"dataframe\">\n",
       "  <thead>\n",
       "    <tr style=\"text-align: right;\">\n",
       "      <th>Metric</th>\n",
       "      <th>Value</th>\n",
       "    </tr>\n",
       "  </thead>\n",
       "  <tbody>\n",
       "    <tr>\n",
       "      <td>Total Runs</td>\n",
       "      <td>10000.000000</td>\n",
       "    </tr>\n",
       "    <tr>\n",
       "      <td>Average Runs</td>\n",
       "      <td>501.000000</td>\n",
       "    </tr>\n",
       "    <tr>\n",
       "      <td>Average Elapsed (full FM)</td>\n",
       "      <td>0.044757</td>\n",
       "    </tr>\n",
       "    <tr>\n",
       "      <td>Stdev Elapsed (full FM)</td>\n",
       "      <td>0.002826</td>\n",
       "    </tr>\n",
       "    <tr>\n",
       "      <td>Total Elapsed</td>\n",
       "      <td>447.565141</td>\n",
       "    </tr>\n",
       "    <tr>\n",
       "      <td>Average Cut Size</td>\n",
       "      <td>68.745800</td>\n",
       "    </tr>\n",
       "    <tr>\n",
       "      <td>Best Cut Size</td>\n",
       "      <td>29.000000</td>\n",
       "    </tr>\n",
       "    <tr>\n",
       "      <td>Worst Cut Size</td>\n",
       "      <td>118.000000</td>\n",
       "    </tr>\n",
       "    <tr>\n",
       "      <td>Average Initial Cut Size</td>\n",
       "      <td>642.225300</td>\n",
       "    </tr>\n",
       "    <tr>\n",
       "      <td>Best Initial Cut Size</td>\n",
       "      <td>560.000000</td>\n",
       "    </tr>\n",
       "    <tr>\n",
       "      <td>Worst Initial Cut Size</td>\n",
       "      <td>710.000000</td>\n",
       "    </tr>\n",
       "  </tbody>\n",
       "</table>"
      ],
      "text/plain": [
       "<IPython.core.display.HTML object>"
      ]
     },
     "execution_count": 8,
     "metadata": {},
     "output_type": "execute_result"
    }
   ],
   "source": [
    "summary = exp.summarize_results(results)\n",
    "\n",
    "# Convert summary to DataFrame for better display\n",
    "df = pd.DataFrame(list(summary.items()), columns=['Metric', 'Value'])\n",
    "HTML(df.to_html(index=False))"
   ]
  },
  {
   "cell_type": "code",
   "execution_count": null,
   "metadata": {},
   "outputs": [
    {
     "name": "stdout",
     "output_type": "stream",
     "text": [
      "Running ILS with mutation size:  1 . Trial:  1\n"
     ]
    },
    {
     "ename": "KeyboardInterrupt",
     "evalue": "",
     "output_type": "error",
     "traceback": [
      "\u001b[0;31m---------------------------------------------------------------------------\u001b[0m",
      "\u001b[0;31mKeyboardInterrupt\u001b[0m                         Traceback (most recent call last)",
      "Cell \u001b[0;32mIn[9], line 24\u001b[0m\n\u001b[1;32m     22\u001b[0m \u001b[38;5;28mprint\u001b[39m(\u001b[38;5;124m\"\u001b[39m\u001b[38;5;124mRunning ILS with mutation size: \u001b[39m\u001b[38;5;124m\"\u001b[39m, m_size,\u001b[38;5;124m\"\u001b[39m\u001b[38;5;124m. Trial: \u001b[39m\u001b[38;5;124m\"\u001b[39m, \u001b[38;5;28mlen\u001b[39m(mutation_size_sequence))  \n\u001b[1;32m     23\u001b[0m start \u001b[38;5;241m=\u001b[39m time\u001b[38;5;241m.\u001b[39mtime()\n\u001b[0;32m---> 24\u001b[0m best, avg_cut_size, results \u001b[38;5;241m=\u001b[39m \u001b[43mils\u001b[49m\u001b[38;5;241;43m.\u001b[39;49m\u001b[43mrun_ils\u001b[49m\u001b[43m(\u001b[49m\u001b[43mmutation_size\u001b[49m\u001b[38;5;241;43m=\u001b[39;49m\u001b[43mm_size\u001b[49m\u001b[43m,\u001b[49m\u001b[43m \u001b[49m\u001b[43mmax_iterations\u001b[49m\u001b[38;5;241;43m=\u001b[39;49m\u001b[43mmax_iterations\u001b[49m\u001b[43m,\u001b[49m\u001b[43m \u001b[49m\u001b[43mruns\u001b[49m\u001b[38;5;241;43m=\u001b[39;49m\u001b[38;5;241;43m10\u001b[39;49m\u001b[43m)\u001b[49m    \n\u001b[1;32m     25\u001b[0m time_elapsed \u001b[38;5;241m=\u001b[39m time\u001b[38;5;241m.\u001b[39mtime() \u001b[38;5;241m-\u001b[39m start\n\u001b[1;32m     26\u001b[0m results\u001b[38;5;241m.\u001b[39mappend((m_size, results))\n",
      "File \u001b[0;32m~/Documents/masterAI_offline/Evo_Comp_Assignment_2/ils.py:174\u001b[0m, in \u001b[0;36mrun_ils\u001b[0;34m(mutation_size, max_iterations, runs)\u001b[0m\n\u001b[1;32m    166\u001b[0m ils \u001b[38;5;241m=\u001b[39m ILS(\n\u001b[1;32m    167\u001b[0m     graph_filename\u001b[38;5;241m=\u001b[39m\u001b[38;5;124m\"\u001b[39m\u001b[38;5;124mGraph500.txt\u001b[39m\u001b[38;5;124m\"\u001b[39m, \n\u001b[1;32m    168\u001b[0m     max_iterations\u001b[38;5;241m=\u001b[39mmax_iterations,    \u001b[38;5;66;03m# \u001b[39;00m\n\u001b[1;32m    169\u001b[0m     mutation_size\u001b[38;5;241m=\u001b[39mmutation_size,       \u001b[38;5;66;03m# \u001b[39;00m\n\u001b[1;32m    170\u001b[0m     random_seed\u001b[38;5;241m=\u001b[39mutils\u001b[38;5;241m.\u001b[39mgenerate_random_seed()\n\u001b[1;32m    171\u001b[0m )\n\u001b[1;32m    173\u001b[0m \u001b[38;5;66;03m# 2 Run ILS\u001b[39;00m\n\u001b[0;32m--> 174\u001b[0m best_cut \u001b[38;5;241m=\u001b[39m \u001b[43mils\u001b[49m\u001b[38;5;241;43m.\u001b[39;49m\u001b[43mrun_ils\u001b[49m\u001b[43m(\u001b[49m\u001b[43m)\u001b[49m   \n\u001b[1;32m    175\u001b[0m \u001b[38;5;28;01mif\u001b[39;00m best_cut \u001b[38;5;241m<\u001b[39m best:     \n\u001b[1;32m    176\u001b[0m     best \u001b[38;5;241m=\u001b[39m best_cut\n",
      "File \u001b[0;32m~/Documents/masterAI_offline/Evo_Comp_Assignment_2/ils.py:79\u001b[0m, in \u001b[0;36mILS.run_ils\u001b[0;34m(self)\u001b[0m\n\u001b[1;32m     77\u001b[0m \u001b[38;5;66;03m# 5 Run FM again from the mutated \u001b[39;00m\n\u001b[1;32m     78\u001b[0m fm_impl \u001b[38;5;241m=\u001b[39m FM(\u001b[38;5;28mself\u001b[39m\u001b[38;5;241m.\u001b[39mgraph)\n\u001b[0;32m---> 79\u001b[0m \u001b[43mfm_impl\u001b[49m\u001b[38;5;241;43m.\u001b[39;49m\u001b[43mrun_fm\u001b[49m\u001b[43m(\u001b[49m\u001b[43m)\u001b[49m\n\u001b[1;32m     80\u001b[0m \u001b[38;5;28mself\u001b[39m\u001b[38;5;241m.\u001b[39mn_iterations \u001b[38;5;241m+\u001b[39m\u001b[38;5;241m=\u001b[39m \u001b[38;5;241m1\u001b[39m\n\u001b[1;32m     81\u001b[0m new_cut \u001b[38;5;241m=\u001b[39m \u001b[38;5;28mself\u001b[39m\u001b[38;5;241m.\u001b[39mgraph\u001b[38;5;241m.\u001b[39mget_cut_size()\n",
      "File \u001b[0;32m~/Documents/masterAI_offline/Evo_Comp_Assignment_2/fm_impl.py:143\u001b[0m, in \u001b[0;36mFM.run_fm\u001b[0;34m(self)\u001b[0m\n\u001b[1;32m    141\u001b[0m \u001b[38;5;28;01mwhile\u001b[39;00m \u001b[38;5;28;01mTrue\u001b[39;00m:        \n\u001b[1;32m    142\u001b[0m     start_time \u001b[38;5;241m=\u001b[39m time\u001b[38;5;241m.\u001b[39mtime()\n\u001b[0;32m--> 143\u001b[0m     step_result \u001b[38;5;241m=\u001b[39m \u001b[38;5;28;43mself\u001b[39;49m\u001b[38;5;241;43m.\u001b[39;49m\u001b[43mrun_single_pass\u001b[49m\u001b[43m(\u001b[49m\u001b[43m)\u001b[49m\n\u001b[1;32m    144\u001b[0m     end_time \u001b[38;5;241m=\u001b[39m time\u001b[38;5;241m.\u001b[39mtime()\n\u001b[1;32m    145\u001b[0m     \u001b[38;5;28mself\u001b[39m\u001b[38;5;241m.\u001b[39mrun_durations\u001b[38;5;241m.\u001b[39mappend(end_time \u001b[38;5;241m-\u001b[39m start_time)\n",
      "File \u001b[0;32m~/Documents/masterAI_offline/Evo_Comp_Assignment_2/fm_impl.py:95\u001b[0m, in \u001b[0;36mFM.run_single_pass\u001b[0;34m(self)\u001b[0m\n\u001b[1;32m     92\u001b[0m current_gain_list[gain] \u001b[38;5;241m=\u001b[39m node\u001b[38;5;241m.\u001b[39mremove(locked\u001b[38;5;241m=\u001b[39m\u001b[38;5;28;01mTrue\u001b[39;00m)\n\u001b[1;32m     94\u001b[0m \u001b[38;5;66;03m#Perform the move operation and update gains.\u001b[39;00m\n\u001b[0;32m---> 95\u001b[0m \u001b[38;5;28;01mreturn\u001b[39;00m \u001b[38;5;28;43mself\u001b[39;49m\u001b[38;5;241;43m.\u001b[39;49m\u001b[43m__move_node\u001b[49m\u001b[43m(\u001b[49m\u001b[43mnode\u001b[49m\u001b[43m)\u001b[49m\n",
      "File \u001b[0;32m~/Documents/masterAI_offline/Evo_Comp_Assignment_2/fm_impl.py:133\u001b[0m, in \u001b[0;36mFM.__move_node\u001b[0;34m(self, node)\u001b[0m\n\u001b[1;32m    129\u001b[0m             bucket[n_new \u001b[38;5;241m+\u001b[39m \u001b[38;5;28mmax\u001b[39m]\u001b[38;5;241m.\u001b[39minsert_after(neighbor)                \n\u001b[1;32m    131\u001b[0m \u001b[38;5;66;03m#NOTE: if we can update the cut size as we move the nodes, we can avoid this array scan.\u001b[39;00m\n\u001b[1;32m    132\u001b[0m \u001b[38;5;66;03m#But for now, it is not a problem. We can optimize if we need.\u001b[39;00m\n\u001b[0;32m--> 133\u001b[0m \u001b[38;5;28mself\u001b[39m\u001b[38;5;241m.\u001b[39mcut_size \u001b[38;5;241m=\u001b[39m \u001b[38;5;28;43mself\u001b[39;49m\u001b[38;5;241;43m.\u001b[39;49m\u001b[43mgraph\u001b[49m\u001b[38;5;241;43m.\u001b[39;49m\u001b[43mget_cut_size\u001b[49m\u001b[43m(\u001b[49m\u001b[43m)\u001b[49m     \n\u001b[1;32m    134\u001b[0m \u001b[38;5;28;01mreturn\u001b[39;00m cut_size_before, \u001b[38;5;28mself\u001b[39m\u001b[38;5;241m.\u001b[39mcut_size, node\u001b[38;5;241m.\u001b[39mid, \u001b[38;5;28mself\u001b[39m\u001b[38;5;241m.\u001b[39mgraph\u001b[38;5;241m.\u001b[39mis_balanced\n",
      "File \u001b[0;32m~/Documents/masterAI_offline/Evo_Comp_Assignment_2/graph.py:52\u001b[0m, in \u001b[0;36mGraph.get_cut_size\u001b[0;34m(self)\u001b[0m\n\u001b[1;32m     50\u001b[0m \u001b[38;5;28;01mfor\u001b[39;00m node \u001b[38;5;129;01min\u001b[39;00m \u001b[38;5;28mself\u001b[39m\u001b[38;5;241m.\u001b[39mnodes\u001b[38;5;241m.\u001b[39mvalues():\n\u001b[1;32m     51\u001b[0m     \u001b[38;5;28;01mfor\u001b[39;00m neighbor_id \u001b[38;5;129;01min\u001b[39;00m node\u001b[38;5;241m.\u001b[39mneighbors:\n\u001b[0;32m---> 52\u001b[0m         \u001b[38;5;28;01mif\u001b[39;00m node\u001b[38;5;241m.\u001b[39mpartition \u001b[38;5;241m!=\u001b[39m \u001b[38;5;28mself\u001b[39m\u001b[38;5;241m.\u001b[39mnodes[neighbor_id]\u001b[38;5;241m.\u001b[39mpartition:\n\u001b[1;32m     53\u001b[0m             cut_size \u001b[38;5;241m+\u001b[39m\u001b[38;5;241m=\u001b[39m \u001b[38;5;241m1\u001b[39m\n\u001b[1;32m     55\u001b[0m \u001b[38;5;66;03m# Each edge counted twice      \u001b[39;00m\n",
      "\u001b[0;31mKeyboardInterrupt\u001b[0m: "
     ]
    }
   ],
   "source": [
    "import ils\n",
    "import time\n",
    "\n",
    "#Use the bisection search from the previous step to find the best mutation size for the ILS algorithm.\n",
    "mutation_size_sequence = []\n",
    "current = 10\n",
    "lower_bound = current\n",
    "max = 101\n",
    "max_iterations = 10000\n",
    "results = []\n",
    "best_cut = 501\n",
    "best_mutation_size = -1\n",
    "tolerance = 2\n",
    "n_worse_solutions = 0\n",
    "step = 10\n",
    "\n",
    "while current <= max:\n",
    "    mutation_size_sequence.append(current)\n",
    "    m_size = current      \n",
    "    \n",
    "    #Run the algorithm with the current mutation size 10 times.\n",
    "    print(\"Running ILS with mutation size: \", m_size,\". Trial: \", len(mutation_size_sequence))  \n",
    "    start = time.time()\n",
    "    best, avg_cut_size, results = ils.run_ils(mutation_size=m_size, max_iterations=max_iterations, runs=10)    \n",
    "    time_elapsed = time.time() - start\n",
    "    results.append((m_size, results))\n",
    "    is_better_cut = avg_cut_size < best_cut\n",
    "    \n",
    "    if is_better_cut:\n",
    "        best_cut = avg_cut_size\n",
    "        best_mutation_size = m_size        \n",
    "        n_worse_solutions = 0\n",
    "    else:\n",
    "        n_worse_solutions += 1 #If tolerance is not exceeded, we will keep exploring.\n",
    "        \n",
    "    print(\"Finished. Cut size: \", avg_cut_size, \". Is better: \", is_better_cut)\n",
    "    print(\"Elapsed Time: \", time_elapsed)    \n",
    "    print(\"--------------------------------------------\")\n",
    "    \n",
    "    if n_worse_solutions > tolerance:\n",
    "        print(\"Stopping. There is no improvement by incresing mutation size since\", tolerance, \"trials.\")\n",
    "        break\n",
    "    \n",
    "    current += step\n",
    "    \n",
    "print(\"Best mutation size: \", best_mutation_size)\n",
    "print(\"Best cut size: \", best_cut)\n",
    "#Fine tune the mutation size, by running the ILS with mutation size backwards one by one. But only if the best mutation size is greater than 5.\n",
    "tune_val = best_mutation_size\n",
    "n_worse_solutions = 0 #reset the counter.\n",
    "for i in range(2, step+2,2):\n",
    "    m_size = tune_val - i\n",
    "    if m_size < 1:\n",
    "        break    \n",
    "    \n",
    "    print(\"Fine tuning ILS with mutation size: \", m_size,\". Trial: \", len(mutation_size_sequence))    \n",
    "    start = time.time()\n",
    "    best, avg_cut_size, results = ils.run_ils(mutation_size=m_size, max_iterations=max_iterations, runs=10)    \n",
    "    time_elapsed = time.time() - start\n",
    "    results.append((m_size, results))\n",
    "    is_better_cut = avg_cut_size < best_cut    \n",
    "    \n",
    "    if is_better_cut:\n",
    "        best_cut = avg_cut_size\n",
    "        best_mutation_size = m_size        \n",
    "        n_worse_solutions = 0\n",
    "    else:\n",
    "        n_worse_solutions += 1 #If tolerance is not exceeded, we will keep exploring.\n",
    "        \n",
    "    print(\"Finished. Cut size: \", avg_cut_size, \". Is better: \", is_better_cut)\n",
    "    print(\"Elapsed Time: \", time_elapsed)    \n",
    "    print(\"--------------------------------------------\")\n",
    "    \n",
    "    if n_worse_solutions > tolerance:\n",
    "        print(\"Stopping. There is no improvement by increasing mutation size since\", tolerance, \"trials.\")\n",
    "        break\n",
    "    "
   ]
  },
  {
   "cell_type": "code",
   "execution_count": 8,
   "metadata": {},
   "outputs": [
    {
     "name": "stdout",
     "output_type": "stream",
     "text": [
      "42\n",
      "40\n",
      "38\n",
      "36\n",
      "34\n"
     ]
    }
   ],
   "source": [
    "tune_val = best_mutation_size\n",
    "n_worse_solutions = 0 #reset the counter.\n",
    "step = 10\n",
    "tune_val = best_mutation_size\n",
    "for i in range(2, step+2,2):\n",
    "    m_size = tune_val - i\n",
    "    print(m_size)   "
   ]
  }
 ],
 "metadata": {
  "kernelspec": {
   "display_name": "Python 3",
   "language": "python",
   "name": "python3"
  },
  "language_info": {
   "codemirror_mode": {
    "name": "ipython",
    "version": 3
   },
   "file_extension": ".py",
   "mimetype": "text/x-python",
   "name": "python",
   "nbconvert_exporter": "python",
   "pygments_lexer": "ipython3",
   "version": "3.12.5"
  }
 },
 "nbformat": 4,
 "nbformat_minor": 2
}
