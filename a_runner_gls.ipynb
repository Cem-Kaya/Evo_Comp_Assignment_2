{
 "cells": [
  {
   "cell_type": "code",
   "execution_count": 1,
   "metadata": {},
   "outputs": [],
   "source": [
    "#TODO MLS ILS GLS time give \n",
    "#GLS hamming distance \n",
    "# statistics \n",
    "# 3. Implement and test GLS (using the FM local search) with population size 50. The\n",
    "# specific genetic algorithm is an incremental (or steady state) GA where there is no\n",
    "# explicit notion of generations: each iteration two parents are randomly selected, use\n",
    "# uniform crossover to generate one child, do FM local search on the child, let this\n",
    "# optimized child compete with the worst solution in the population, if it is better or\n",
    "# equal it replaces the worst solution. Are the GLS results statistically better/worse\n",
    "# than MLS or ILS ?"
   ]
  },
  {
   "cell_type": "code",
   "execution_count": 1,
   "metadata": {},
   "outputs": [],
   "source": [
    "import time\n",
    "import pickle\n",
    "import statistics\n",
    "import random\n",
    "import matplotlib.pyplot as plt\n",
    "\n",
    "from gls import GLS  "
   ]
  },
  {
   "cell_type": "code",
   "execution_count": 3,
   "metadata": {},
   "outputs": [],
   "source": [
    "NUM_RUNS = 1\n",
    "POP_SIZE = 50\n",
    "MAX_ITERATIONS = 10000   # 10_000 iterations\n",
    "random_seeds = list(range(NUM_RUNS))  # or pick any 10 distinct seeds"
   ]
  },
  {
   "cell_type": "code",
   "execution_count": 4,
   "metadata": {},
   "outputs": [
    {
     "name": "stdout",
     "output_type": "stream",
     "text": [
      "Starting GLS run 1/1 with seed=0\n",
      "Run 1 done. Best cut size = 9, Time = 437.17s\n",
      "GLS results have been pickled to 'pckl/20250331-173550_GLS-pop_size_50-iter_10000.pkl'.\n"
     ]
    }
   ],
   "source": [
    "gls_cut_sizes = []\n",
    "gls_times = []\n",
    "\n",
    "for i in range(NUM_RUNS):\n",
    "    seed = random_seeds[i]\n",
    "    print(f\"Starting GLS run {i+1}/{NUM_RUNS} with seed={seed}\")\n",
    "\n",
    "    start_time = time.time()\n",
    "\n",
    "    # GLS \n",
    "    gls = GLS(\n",
    "        graph_filename=\"Graph500.txt\",\n",
    "        pop_size=POP_SIZE,\n",
    "        max_iterations=MAX_ITERATIONS,\n",
    "        random_seed=seed\n",
    "    )\n",
    "\n",
    "    best_cut_size = gls.run_gls()  \n",
    "\n",
    "    end_time = time.time()\n",
    "    elapsed = end_time - start_time\n",
    "\n",
    "    # Record results\n",
    "    gls_cut_sizes.append(best_cut_size)\n",
    "    gls_times.append(elapsed)\n",
    "\n",
    "    print(f\"Run {i+1} done. Best cut size = {best_cut_size}, Time = {elapsed:.2f}s\")\n",
    "    \n",
    "gls_results_dict = {\n",
    "    \"cut_sizes\": gls_cut_sizes,\n",
    "    \"run_times\": gls_times,\n",
    "    \"timestamp\": time.strftime(\"%Y-%m-%d %H:%M:%S\")  # readable timestamp inside the file\n",
    "}\n",
    "\n",
    "timestamp = time.strftime(\"%Y%m%d-%H%M%S\")\n",
    "solution_filename = f\"pckl/{timestamp}_GLS-pop_size_{POP_SIZE}-iter_{MAX_ITERATIONS}.pkl\"\n",
    "\n",
    "\n",
    "with open(solution_filename, \"wb\") as f:\n",
    "    pickle.dump(gls_results_dict, f)\n",
    "\n",
    "print(f\"GLS results have been pickled to '{solution_filename}'.\")\n"
   ]
  },
  {
   "cell_type": "code",
   "execution_count": 10,
   "metadata": {},
   "outputs": [
    {
     "name": "stdout",
     "output_type": "stream",
     "text": [
      "\n",
      "===== GLS (10 runs) Summary =====\n",
      "Cut sizes: [9, 6, 7, 12, 7, 8, 8, 12, 7, 8]\n",
      "Best cut size across 10 runs: 6\n",
      "Median cut size across 10 runs: 8.0\n",
      "Mean cut size across 10 runs: 8.40, Std Dev: 1.96\n",
      "Avg run time: 89.82s  (Std Dev: 3.10s)\n"
     ]
    }
   ],
   "source": [
    "print(\"\\n===== GLS (10 runs) Summary =====\")\n",
    "print(\"Cut sizes:\", gls_cut_sizes)\n",
    "print(f\"Best cut size across 10 runs: {min(gls_cut_sizes)}\")\n",
    "print(f\"Median cut size across 10 runs: {statistics.median(gls_cut_sizes)}\")\n",
    "print(f\"Mean cut size across 10 runs: {statistics.mean(gls_cut_sizes):.2f}, Std Dev: {statistics.pstdev(gls_cut_sizes):.2f}\")\n",
    "print(f\"Avg run time: {statistics.mean(gls_times):.2f}s  (Std Dev: {statistics.pstdev(gls_times):.2f}s)\")"
   ]
  },
  {
   "cell_type": "code",
   "execution_count": 11,
   "metadata": {},
   "outputs": [
    {
     "data": {
      "image/png": "[encoded data removed]",
      "text/plain": [
       "<Figure size 640x480 with 1 Axes>"
      ]
     },
     "metadata": {},
     "output_type": "display_data"
    }
   ],
   "source": [
    "plt.boxplot(gls_cut_sizes)\n",
    "plt.title(\"GLS Cut Sizes (10 runs, each with 10,000 FM passes)\")\n",
    "plt.ylabel(\"Cut Size\")\n",
    "plt.show()"
   ]
  },
  {
   "cell_type": "code",
   "execution_count": 13,
   "metadata": {},
   "outputs": [
    {
     "name": "stdout",
     "output_type": "stream",
     "text": [
      "GLS results have been pickled to 'pckl/gls_results__with_pop_size50_with_iter_1000_seed[0, 1, 2, 3, 4, 5, 6, 7, 8, 9]_20250328-164250.pkl'.\n"
     ]
    }
   ],
   "source": [
    "gls_results_dict = {\n",
    "    \"cut_sizes\": gls_cut_sizes,\n",
    "    \"run_times\": gls_times,\n",
    "    \"timestamp\": time.strftime(\"%Y-%m-%d %H:%M:%S\")  # readable timestamp inside the file\n",
    "}\n",
    "\n",
    "\n",
    "timestamp = time.strftime(\"%Y%m%d-%H%M%S\")\n",
    "solution_filename = f\"pckl/gls_results__with_pop_size{POP_SIZE}_with_iter_{MAX_ITERATIONS}_seed{random_seeds}_{timestamp}.pkl\"\n",
    "\n",
    "\n",
    "with open(solution_filename, \"wb\") as f:\n",
    "    pickle.dump(gls_results_dict, f)\n",
    "\n",
    "print(f\"GLS results have been pickled to '{solution_filename}'.\")\n"
   ]
  }
 ],
 "metadata": {
  "kernelspec": {
   "display_name": "Python 3",
   "language": "python",
   "name": "python3"
  },
  "language_info": {
   "codemirror_mode": {
    "name": "ipython",
    "version": 3
   },
   "file_extension": ".py",
   "mimetype": "text/x-python",
   "name": "python",
   "nbconvert_exporter": "python",
   "pygments_lexer": "ipython3",
   "version": "3.12.5"
  }
 },
 "nbformat": 4,
 "nbformat_minor": 2
}
