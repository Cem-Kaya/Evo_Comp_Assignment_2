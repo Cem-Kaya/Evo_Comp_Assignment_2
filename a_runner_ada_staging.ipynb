{
 "cells": [
  {
   "cell_type": "code",
   "execution_count": 1,
   "metadata": {},
   "outputs": [
    {
     "name": "stdout",
     "output_type": "stream",
     "text": [
      "Running Adaptive ILS with staging, th:0.3, stage_cut30...\n",
      "ILS - CPU Time: 1000. Best Cut: 9.\n",
      "Adaptive ILS - Staging: 0.3. Limit: 30. Best Cut: 9.\n"
     ]
    },
    {
     "ename": "KeyboardInterrupt",
     "evalue": "",
     "output_type": "error",
     "traceback": [
      "\u001b[0;31m---------------------------------------------------------------------------\u001b[0m",
      "\u001b[0;31mKeyboardInterrupt\u001b[0m                         Traceback (most recent call last)",
      "Cell \u001b[0;32mIn[1], line 2\u001b[0m\n\u001b[1;32m      1\u001b[0m \u001b[38;5;28;01mimport\u001b[39;00m \u001b[38;5;21;01mexperimentation\u001b[39;00m \u001b[38;5;28;01mas\u001b[39;00m \u001b[38;5;21;01mexp\u001b[39;00m\n\u001b[0;32m----> 2\u001b[0m \u001b[43mexp\u001b[49m\u001b[38;5;241;43m.\u001b[39;49m\u001b[43mexperiment_ils_ada_staging\u001b[49m\u001b[43m(\u001b[49m\u001b[43m)\u001b[49m\n",
      "File \u001b[0;32m~/Documents/masterAI_offline/Evo_Comp_Assignment_2/experimentation.py:63\u001b[0m, in \u001b[0;36mexperiment_ils_ada_staging\u001b[0;34m()\u001b[0m\n\u001b[1;32m     60\u001b[0m ils\u001b[38;5;241m.\u001b[39mstage_threshold \u001b[38;5;241m=\u001b[39m threshold\n\u001b[1;32m     61\u001b[0m ils\u001b[38;5;241m.\u001b[39mstage_cut_limit \u001b[38;5;241m=\u001b[39m stage_cut\n\u001b[0;32m---> 63\u001b[0m best_cut, stats \u001b[38;5;241m=\u001b[39m \u001b[43mrun_ils_cpu_time\u001b[49m\u001b[43m(\u001b[49m\u001b[43mils\u001b[49m\u001b[43m,\u001b[49m\u001b[43m \u001b[49m\u001b[43mmax_iterations\u001b[49m\u001b[43m)\u001b[49m\n\u001b[1;32m     64\u001b[0m stats[\u001b[38;5;124m\"\u001b[39m\u001b[38;5;124mstage_cut\u001b[39m\u001b[38;5;124m\"\u001b[39m] \u001b[38;5;241m=\u001b[39m stage_cut\n\u001b[1;32m     65\u001b[0m stats[\u001b[38;5;124m\"\u001b[39m\u001b[38;5;124mthreshold\u001b[39m\u001b[38;5;124m\"\u001b[39m] \u001b[38;5;241m=\u001b[39m threshold\n",
      "File \u001b[0;32m~/Documents/masterAI_offline/Evo_Comp_Assignment_2/experimentation.py:11\u001b[0m, in \u001b[0;36mrun_ils_cpu_time\u001b[0;34m(ils, max_cpu_time, target_cut, exp_name)\u001b[0m\n\u001b[1;32m      9\u001b[0m \u001b[38;5;28;01mdef\u001b[39;00m \u001b[38;5;21mrun_ils_cpu_time\u001b[39m(ils:ILS, max_cpu_time\u001b[38;5;241m=\u001b[39m\u001b[38;5;241m10\u001b[39m\u001b[38;5;241m*\u001b[39m\u001b[38;5;241m60\u001b[39m, target_cut\u001b[38;5;241m=\u001b[39m\u001b[38;5;241m-\u001b[39m\u001b[38;5;241m1\u001b[39m, exp_name\u001b[38;5;241m=\u001b[39m\u001b[38;5;124m\"\u001b[39m\u001b[38;5;124mILS-FIXED_TIME\u001b[39m\u001b[38;5;124m\"\u001b[39m):\n\u001b[1;32m     10\u001b[0m     \u001b[38;5;66;03m#1 Run ILS\u001b[39;00m\n\u001b[0;32m---> 11\u001b[0m     best_cut \u001b[38;5;241m=\u001b[39m \u001b[43mils\u001b[49m\u001b[38;5;241;43m.\u001b[39;49m\u001b[43mrun_ils_cpu_time\u001b[49m\u001b[43m(\u001b[49m\u001b[43mmax_cpu_time\u001b[49m\u001b[43m,\u001b[49m\u001b[43m \u001b[49m\u001b[43mtarget_cut\u001b[49m\u001b[43m)\u001b[49m\n\u001b[1;32m     13\u001b[0m     \u001b[38;5;66;03m# 3 Collect run statistics\u001b[39;00m\n\u001b[1;32m     14\u001b[0m     stats \u001b[38;5;241m=\u001b[39m ils\u001b[38;5;241m.\u001b[39mget_run_statistics() \n",
      "File \u001b[0;32m~/Documents/masterAI_offline/Evo_Comp_Assignment_2/ils.py:136\u001b[0m, in \u001b[0;36mILS.run_ils_cpu_time\u001b[0;34m(self, max_cpu_time, target_value)\u001b[0m\n\u001b[1;32m    134\u001b[0m     \u001b[38;5;28;01mbreak\u001b[39;00m\n\u001b[1;32m    135\u001b[0m start_time \u001b[38;5;241m=\u001b[39m time\u001b[38;5;241m.\u001b[39mtime()     \n\u001b[0;32m--> 136\u001b[0m \u001b[38;5;28;43mself\u001b[39;49m\u001b[38;5;241;43m.\u001b[39;49m\u001b[43m_perform_fm\u001b[49m\u001b[43m(\u001b[49m\u001b[43m)\u001b[49m\n\u001b[1;32m    137\u001b[0m \u001b[38;5;28mself\u001b[39m\u001b[38;5;241m.\u001b[39mspent_cpu_time \u001b[38;5;241m+\u001b[39m\u001b[38;5;241m=\u001b[39m time\u001b[38;5;241m.\u001b[39mtime() \u001b[38;5;241m-\u001b[39m start_time\n\u001b[1;32m    138\u001b[0m \u001b[38;5;28;01mpass\u001b[39;00m\n",
      "File \u001b[0;32m~/Documents/masterAI_offline/Evo_Comp_Assignment_2/ils.py:162\u001b[0m, in \u001b[0;36mILS._perform_fm\u001b[0;34m(self)\u001b[0m\n\u001b[1;32m    160\u001b[0m \u001b[38;5;66;03m# 5 Run FM again from the mutated \u001b[39;00m\n\u001b[1;32m    161\u001b[0m fm_impl \u001b[38;5;241m=\u001b[39m FM(\u001b[38;5;28mself\u001b[39m\u001b[38;5;241m.\u001b[39mgraph)\n\u001b[0;32m--> 162\u001b[0m \u001b[43mfm_impl\u001b[49m\u001b[38;5;241;43m.\u001b[39;49m\u001b[43mrun_fm\u001b[49m\u001b[43m(\u001b[49m\u001b[43m)\u001b[49m\n\u001b[1;32m    163\u001b[0m new_cut \u001b[38;5;241m=\u001b[39m \u001b[38;5;28mself\u001b[39m\u001b[38;5;241m.\u001b[39mgraph\u001b[38;5;241m.\u001b[39mget_cut_size()\n\u001b[1;32m    165\u001b[0m \u001b[38;5;66;03m# Call mutation operator updater, if adaptive\u001b[39;00m\n",
      "File \u001b[0;32m~/Documents/masterAI_offline/Evo_Comp_Assignment_2/fm_impl.py:143\u001b[0m, in \u001b[0;36mFM.run_fm\u001b[0;34m(self)\u001b[0m\n\u001b[1;32m    141\u001b[0m \u001b[38;5;28;01mwhile\u001b[39;00m \u001b[38;5;28;01mTrue\u001b[39;00m:        \n\u001b[1;32m    142\u001b[0m     start_time \u001b[38;5;241m=\u001b[39m time\u001b[38;5;241m.\u001b[39mtime()\n\u001b[0;32m--> 143\u001b[0m     step_result \u001b[38;5;241m=\u001b[39m \u001b[38;5;28;43mself\u001b[39;49m\u001b[38;5;241;43m.\u001b[39;49m\u001b[43mrun_single_pass\u001b[49m\u001b[43m(\u001b[49m\u001b[43m)\u001b[49m\n\u001b[1;32m    144\u001b[0m     end_time \u001b[38;5;241m=\u001b[39m time\u001b[38;5;241m.\u001b[39mtime()\n\u001b[1;32m    145\u001b[0m     \u001b[38;5;28mself\u001b[39m\u001b[38;5;241m.\u001b[39mrun_durations\u001b[38;5;241m.\u001b[39mappend(end_time \u001b[38;5;241m-\u001b[39m start_time)\n",
      "File \u001b[0;32m~/Documents/masterAI_offline/Evo_Comp_Assignment_2/fm_impl.py:95\u001b[0m, in \u001b[0;36mFM.run_single_pass\u001b[0;34m(self)\u001b[0m\n\u001b[1;32m     92\u001b[0m current_gain_list[gain] \u001b[38;5;241m=\u001b[39m node\u001b[38;5;241m.\u001b[39mremove(locked\u001b[38;5;241m=\u001b[39m\u001b[38;5;28;01mTrue\u001b[39;00m)\n\u001b[1;32m     94\u001b[0m \u001b[38;5;66;03m#Perform the move operation and update gains.\u001b[39;00m\n\u001b[0;32m---> 95\u001b[0m \u001b[38;5;28;01mreturn\u001b[39;00m \u001b[38;5;28;43mself\u001b[39;49m\u001b[38;5;241;43m.\u001b[39;49m\u001b[43m__move_node\u001b[49m\u001b[43m(\u001b[49m\u001b[43mnode\u001b[49m\u001b[43m)\u001b[49m\n",
      "File \u001b[0;32m~/Documents/masterAI_offline/Evo_Comp_Assignment_2/fm_impl.py:133\u001b[0m, in \u001b[0;36mFM.__move_node\u001b[0;34m(self, node)\u001b[0m\n\u001b[1;32m    129\u001b[0m             bucket[n_new \u001b[38;5;241m+\u001b[39m \u001b[38;5;28mmax\u001b[39m]\u001b[38;5;241m.\u001b[39minsert_after(neighbor)                \n\u001b[1;32m    131\u001b[0m \u001b[38;5;66;03m#NOTE: if we can update the cut size as we move the nodes, we can avoid this array scan.\u001b[39;00m\n\u001b[1;32m    132\u001b[0m \u001b[38;5;66;03m#But for now, it is not a problem. We can optimize if we need.\u001b[39;00m\n\u001b[0;32m--> 133\u001b[0m \u001b[38;5;28mself\u001b[39m\u001b[38;5;241m.\u001b[39mcut_size \u001b[38;5;241m=\u001b[39m \u001b[38;5;28;43mself\u001b[39;49m\u001b[38;5;241;43m.\u001b[39;49m\u001b[43mgraph\u001b[49m\u001b[38;5;241;43m.\u001b[39;49m\u001b[43mget_cut_size\u001b[49m\u001b[43m(\u001b[49m\u001b[43m)\u001b[49m     \n\u001b[1;32m    134\u001b[0m \u001b[38;5;28;01mreturn\u001b[39;00m cut_size_before, \u001b[38;5;28mself\u001b[39m\u001b[38;5;241m.\u001b[39mcut_size, node\u001b[38;5;241m.\u001b[39mid, \u001b[38;5;28mself\u001b[39m\u001b[38;5;241m.\u001b[39mgraph\u001b[38;5;241m.\u001b[39mis_balanced\n",
      "File \u001b[0;32m~/Documents/masterAI_offline/Evo_Comp_Assignment_2/graph.py:43\u001b[0m, in \u001b[0;36mGraph.get_cut_size\u001b[0;34m(self)\u001b[0m\n\u001b[1;32m     41\u001b[0m \u001b[38;5;28;01mfor\u001b[39;00m node \u001b[38;5;129;01min\u001b[39;00m \u001b[38;5;28mself\u001b[39m\u001b[38;5;241m.\u001b[39mnodes\u001b[38;5;241m.\u001b[39mvalues():\n\u001b[1;32m     42\u001b[0m     \u001b[38;5;28;01mfor\u001b[39;00m neighbor_id \u001b[38;5;129;01min\u001b[39;00m node\u001b[38;5;241m.\u001b[39mneighbors:\n\u001b[0;32m---> 43\u001b[0m         \u001b[38;5;28;01mif\u001b[39;00m node\u001b[38;5;241m.\u001b[39mpartition \u001b[38;5;241m!=\u001b[39m \u001b[38;5;28mself\u001b[39m\u001b[38;5;241m.\u001b[39mnodes[neighbor_id]\u001b[38;5;241m.\u001b[39mpartition:\n\u001b[1;32m     44\u001b[0m             cut_size \u001b[38;5;241m+\u001b[39m\u001b[38;5;241m=\u001b[39m \u001b[38;5;241m1\u001b[39m\n\u001b[1;32m     46\u001b[0m \u001b[38;5;66;03m# Each edge counted twice      \u001b[39;00m\n",
      "\u001b[0;31mKeyboardInterrupt\u001b[0m: "
     ]
    }
   ],
   "source": [
    "import experimentation as exp\n",
    "exp.experiment_ils_ada_staging()"
   ]
  }
 ],
 "metadata": {
  "kernelspec": {
   "display_name": "Python 3",
   "language": "python",
   "name": "python3"
  },
  "language_info": {
   "codemirror_mode": {
    "name": "ipython",
    "version": 3
   },
   "file_extension": ".py",
   "mimetype": "text/x-python",
   "name": "python",
   "nbconvert_exporter": "python",
   "pygments_lexer": "ipython3",
   "version": "3.12.5"
  }
 },
 "nbformat": 4,
 "nbformat_minor": 2
}
