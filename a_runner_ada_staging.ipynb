{
 "cells": [
  {
   "cell_type": "markdown",
   "metadata": {},
   "source": [
    "Experiment adaptive ILS with staging strategy. 10.000 FM Passes"
   ]
  },
  {
   "cell_type": "code",
   "execution_count": null,
   "metadata": {},
   "outputs": [
    {
     "name": "stdout",
     "output_type": "stream",
     "text": [
      "ILS-ADA-STAGING-0 - Best Cut: 10.\n"
     ]
    }
   ],
   "source": [
    "import experimentation as exp\n",
    "operators = [10,20,30,40,45,50,55,60,65,70]\n",
    "p_min = 0.001\n",
    "alpha = 0.6\n",
    "beta = 0.2\n",
    "max_iterations = 10000\n",
    "enable_staging = True\n",
    "stage_threshold = 0.6\n",
    "stage_cut_limit = 30\n",
    "best_cut, report = exp.experiment_adaptive_ils(operators=operators,\n",
    "                            p_min=p_min,\n",
    "                            alpha=alpha,\n",
    "                            beta=beta,\n",
    "                            max_iterations=max_iterations,\n",
    "                            enable_staging=enable_staging,\n",
    "                            stage_threshold=stage_threshold,\n",
    "                            stage_cut_limit=stage_cut_limit,\n",
    "                            exp_name=\"ILS-ADA-STAGING\",)"
   ]
  },
  {
   "cell_type": "markdown",
   "metadata": {},
   "source": [
    "Experiment adaptive ILS with staging strategy. 25 runs."
   ]
  },
  {
   "cell_type": "code",
   "execution_count": null,
   "metadata": {},
   "outputs": [
    {
     "name": "stdout",
     "output_type": "stream",
     "text": [
      "Running Adaptive ILS for 450 seconds...\n"
     ]
    }
   ],
   "source": [
    "import experimentation as exp\n",
    "operators = [10,20,30,40,45,50,55,60,65,70]\n",
    "p_min = 0.001\n",
    "alpha = 0.6\n",
    "beta = 0.2\n",
    "target_cut = 2\n",
    "max_cpu_time=450\n",
    "max_iterations = 10000\n",
    "runs = 25\n",
    "enable_staging = True\n",
    "stage_threshold = 0.6\n",
    "stage_cut_limit = 30\n",
    "exp_name=\"ILS-ADA-STAGING-25\"\n",
    "\n",
    "best, avg_best_cut_size,results = exp.run_ils_ada_cpu_time(\n",
    "                            operators=operators,\n",
    "                            p_min=p_min,\n",
    "                            alpha=alpha,\n",
    "                            beta=beta,\n",
    "                            target_cut=target_cut,\n",
    "                            max_cpu_time=max_cpu_time,                        \n",
    "                            runs=runs,\n",
    "                            enable_staging=enable_staging,\n",
    "                            stage_threshold=stage_threshold,\n",
    "                            stage_cut_limit=stage_cut_limit,\n",
    "                            exp_name=exp_name)"
   ]
  }
 ],
 "metadata": {
  "kernelspec": {
   "display_name": "Python 3",
   "language": "python",
   "name": "python3"
  },
  "language_info": {
   "codemirror_mode": {
    "name": "ipython",
    "version": 3
   },
   "file_extension": ".py",
   "mimetype": "text/x-python",
   "name": "python",
   "nbconvert_exporter": "python",
   "pygments_lexer": "ipython3",
   "version": "3.12.5"
  }
 },
 "nbformat": 4,
 "nbformat_minor": 2
}
